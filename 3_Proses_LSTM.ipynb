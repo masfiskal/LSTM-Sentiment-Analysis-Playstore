{
  "nbformat": 4,
  "nbformat_minor": 0,
  "metadata": {
    "colab": {
      "name": "Proses LSTM.ipynb",
      "provenance": [],
      "toc_visible": true
    },
    "kernelspec": {
      "display_name": "Python 3",
      "name": "python3"
    }
  },
  "cells": [
    {
      "cell_type": "code",
      "metadata": {
        "colab": {
          "base_uri": "https://localhost:8080/"
        },
        "id": "dCf1-j9FrhmM",
        "outputId": "e887945c-3ec8-4e92-de65-fca657242a8a"
      },
      "source": [
        "!pip show tensorflow"
      ],
      "execution_count": null,
      "outputs": [
        {
          "output_type": "stream",
          "text": [
            "Name: tensorflow\n",
            "Version: 2.4.0\n",
            "Summary: TensorFlow is an open source machine learning framework for everyone.\n",
            "Home-page: https://www.tensorflow.org/\n",
            "Author: Google Inc.\n",
            "Author-email: packages@tensorflow.org\n",
            "License: Apache 2.0\n",
            "Location: /usr/local/lib/python3.6/dist-packages\n",
            "Requires: tensorboard, tensorflow-estimator, typing-extensions, keras-preprocessing, grpcio, opt-einsum, protobuf, six, google-pasta, gast, absl-py, astunparse, termcolor, wrapt, numpy, flatbuffers, h5py, wheel\n",
            "Required-by: fancyimpute\n"
          ],
          "name": "stdout"
        }
      ]
    },
    {
      "cell_type": "markdown",
      "metadata": {
        "id": "Dp4nFIuOiT1u"
      },
      "source": [
        "##Import Modul yang dipakai"
      ]
    },
    {
      "cell_type": "code",
      "metadata": {
        "id": "Tlq5_K4Jrtv3"
      },
      "source": [
        "import numpy as np\n",
        "import tensorflow as tf\n",
        "from sklearn.metrics import confusion_matrix, classification_report\n",
        "import pandas as pd # data preprocessing\n",
        "from sklearn.feature_extraction.text import CountVectorizer\n",
        "from keras.preprocessing.text import Tokenizer\n",
        "from keras.preprocessing.sequence import pad_sequences\n",
        "from keras.models import Sequential\n",
        "from keras.layers import Dense, Embedding, LSTM, SpatialDropout1D\n",
        "from sklearn.model_selection import train_test_split\n",
        "from keras.utils.np_utils import to_categorical\n",
        "from sklearn.utils import resample\n",
        "from sklearn.utils import shuffle\n",
        "from sklearn.metrics import confusion_matrix, classification_report\n",
        "import re\n",
        "from keras.callbacks import ModelCheckpoint\n",
        "import keras\n",
        "from keras.layers import Dense, Dropout, Activation, LSTM\n",
        "import matplotlib.pyplot as plt"
      ],
      "execution_count": null,
      "outputs": []
    },
    {
      "cell_type": "markdown",
      "metadata": {
        "id": "ko9mHSHXjEc2"
      },
      "source": [
        "##import Data Gdrive"
      ]
    },
    {
      "cell_type": "code",
      "metadata": {
        "colab": {
          "base_uri": "https://localhost:8080/"
        },
        "id": "0xQMqdchszgf",
        "outputId": "2dac297d-ad82-4dec-8009-52a88e1f016d"
      },
      "source": [
        "!gdown --id 1_5iXUyAifvRc8ohE_XjBOeVpZbBWVLiF"
      ],
      "execution_count": null,
      "outputs": [
        {
          "output_type": "stream",
          "text": [
            "Downloading...\n",
            "From: https://drive.google.com/uc?id=1_5iXUyAifvRc8ohE_XjBOeVpZbBWVLiF\n",
            "To: /content/ulasan_fix.csv\n",
            "\r  0% 0.00/240k [00:00<?, ?B/s]\r100% 240k/240k [00:00<00:00, 30.5MB/s]\n"
          ],
          "name": "stdout"
        }
      ]
    },
    {
      "cell_type": "code",
      "metadata": {
        "colab": {
          "base_uri": "https://localhost:8080/",
          "height": 649
        },
        "id": "lhe4yISXtzkw",
        "outputId": "3f72d758-753b-4a5a-d2d1-cdf80abc4963"
      },
      "source": [
        "df = pd.read_csv('ulasan_fix.csv')\n",
        "df.head()"
      ],
      "execution_count": null,
      "outputs": [
        {
          "output_type": "execute_result",
          "data": {
            "text/html": [
              "<div>\n",
              "<style scoped>\n",
              "    .dataframe tbody tr th:only-of-type {\n",
              "        vertical-align: middle;\n",
              "    }\n",
              "\n",
              "    .dataframe tbody tr th {\n",
              "        vertical-align: top;\n",
              "    }\n",
              "\n",
              "    .dataframe thead th {\n",
              "        text-align: right;\n",
              "    }\n",
              "</style>\n",
              "<table border=\"1\" class=\"dataframe\">\n",
              "  <thead>\n",
              "    <tr style=\"text-align: right;\">\n",
              "      <th></th>\n",
              "      <th>Unnamed: 0</th>\n",
              "      <th>reviewId</th>\n",
              "      <th>userName</th>\n",
              "      <th>userImage</th>\n",
              "      <th>content</th>\n",
              "      <th>score</th>\n",
              "      <th>thumbsUpCount</th>\n",
              "      <th>reviewCreatedVersion</th>\n",
              "      <th>at</th>\n",
              "      <th>replyContent</th>\n",
              "      <th>repliedAt</th>\n",
              "      <th>sortOrder</th>\n",
              "      <th>appID</th>\n",
              "    </tr>\n",
              "  </thead>\n",
              "  <tbody>\n",
              "    <tr>\n",
              "      <th>0</th>\n",
              "      <td>0</td>\n",
              "      <td>gp:AOqpTOFTzEj7bqt2lz8SpmDhwBHNBbZ4H6n6NCA0q-u...</td>\n",
              "      <td>Keyla Dewi</td>\n",
              "      <td>https://play-lh.googleusercontent.com/a-/AOh14...</td>\n",
              "      <td>jasa kirim parah pilih pengirinan yg expres tp...</td>\n",
              "      <td>1</td>\n",
              "      <td>0</td>\n",
              "      <td>NaN</td>\n",
              "      <td>2020-12-15 06:57:35</td>\n",
              "      <td>NaN</td>\n",
              "      <td>NaN</td>\n",
              "      <td>newest</td>\n",
              "      <td>com.posindonesia.cob</td>\n",
              "    </tr>\n",
              "    <tr>\n",
              "      <th>1</th>\n",
              "      <td>1</td>\n",
              "      <td>gp:AOqpTOHC7-I1Z9uV7UGPMTHUeqjgy8UtrDSXd05oLwh...</td>\n",
              "      <td>Mulai Jhon Dame</td>\n",
              "      <td>https://play-lh.googleusercontent.com/-70OzLoL...</td>\n",
              "      <td>parah banget pakai jasa pos indonesia paket tg...</td>\n",
              "      <td>1</td>\n",
              "      <td>0</td>\n",
              "      <td>0.2.4</td>\n",
              "      <td>2020-12-14 00:08:44</td>\n",
              "      <td>NaN</td>\n",
              "      <td>NaN</td>\n",
              "      <td>newest</td>\n",
              "      <td>com.posindonesia.cob</td>\n",
              "    </tr>\n",
              "    <tr>\n",
              "      <th>2</th>\n",
              "      <td>2</td>\n",
              "      <td>gp:AOqpTOF9DnhTuwOhMQlt1ZOXNGZAZjUhfcPH2QR3EEq...</td>\n",
              "      <td>Teranex 3d</td>\n",
              "      <td>https://play-lh.googleusercontent.com/a-/AOh14...</td>\n",
              "      <td>ajar dl bikin aplikasi post play store ngabisi...</td>\n",
              "      <td>1</td>\n",
              "      <td>2</td>\n",
              "      <td>0.2.4</td>\n",
              "      <td>2020-12-12 13:34:21</td>\n",
              "      <td>NaN</td>\n",
              "      <td>NaN</td>\n",
              "      <td>newest</td>\n",
              "      <td>com.posindonesia.cob</td>\n",
              "    </tr>\n",
              "    <tr>\n",
              "      <th>3</th>\n",
              "      <td>3</td>\n",
              "      <td>gp:AOqpTOEvUeuBGRl8f2CQ8F_yFfnATZghSjHU6bAybiv...</td>\n",
              "      <td>Boris Comonity</td>\n",
              "      <td>https://play-lh.googleusercontent.com/-6nsEpxD...</td>\n",
              "      <td>tolong kurir barang sampek tolong uang setor p...</td>\n",
              "      <td>1</td>\n",
              "      <td>0</td>\n",
              "      <td>0.2.4</td>\n",
              "      <td>2020-12-11 07:32:48</td>\n",
              "      <td>NaN</td>\n",
              "      <td>NaN</td>\n",
              "      <td>newest</td>\n",
              "      <td>com.posindonesia.cob</td>\n",
              "    </tr>\n",
              "    <tr>\n",
              "      <th>4</th>\n",
              "      <td>4</td>\n",
              "      <td>gp:AOqpTOHRwwj9nBiYgYrTqS9qCbERssbhIqkvAljPk0V...</td>\n",
              "      <td>Lu si</td>\n",
              "      <td>https://play-lh.googleusercontent.com/-hiPYTY3...</td>\n",
              "      <td>kecewa</td>\n",
              "      <td>1</td>\n",
              "      <td>0</td>\n",
              "      <td>0.2.4</td>\n",
              "      <td>2020-12-10 14:37:32</td>\n",
              "      <td>Terima kasih atas saran yang Bapak/Ibu sampaik...</td>\n",
              "      <td>2020-12-11 06:41:10</td>\n",
              "      <td>newest</td>\n",
              "      <td>com.posindonesia.cob</td>\n",
              "    </tr>\n",
              "  </tbody>\n",
              "</table>\n",
              "</div>"
            ],
            "text/plain": [
              "   Unnamed: 0  ...                 appID\n",
              "0           0  ...  com.posindonesia.cob\n",
              "1           1  ...  com.posindonesia.cob\n",
              "2           2  ...  com.posindonesia.cob\n",
              "3           3  ...  com.posindonesia.cob\n",
              "4           4  ...  com.posindonesia.cob\n",
              "\n",
              "[5 rows x 13 columns]"
            ]
          },
          "metadata": {
            "tags": []
          },
          "execution_count": 4
        }
      ]
    },
    {
      "cell_type": "markdown",
      "metadata": {
        "id": "u_kYgMJNk_uK"
      },
      "source": [
        "## Melihat kata umum dari data"
      ]
    },
    {
      "cell_type": "code",
      "metadata": {
        "colab": {
          "base_uri": "https://localhost:8080/"
        },
        "id": "y9FrBWMruKri",
        "outputId": "0be899f1-b60e-4b0a-e037-a54dc26efcda"
      },
      "source": [
        "listdata = df['content'].values.astype('U')\n",
        "listdata = [d for d in listdata]\n",
        "teks = [b for b in listdata]\n",
        "kalimat = ' '.join(teks)\n",
        "kata = kalimat.split()\n",
        "len(np.unique(kata))"
      ],
      "execution_count": null,
      "outputs": [
        {
          "output_type": "execute_result",
          "data": {
            "text/plain": [
              "1619"
            ]
          },
          "metadata": {
            "tags": []
          },
          "execution_count": 5
        }
      ]
    },
    {
      "cell_type": "code",
      "metadata": {
        "id": "YBrW9VF1uWGz"
      },
      "source": [
        "def to_sentiment(score):\n",
        "  score = int(score)\n",
        "  if score <= 2:\n",
        "    return 0\n",
        "  elif score == 3:\n",
        "    return 1\n",
        "  else :\n",
        "    return 2"
      ],
      "execution_count": null,
      "outputs": []
    },
    {
      "cell_type": "code",
      "metadata": {
        "id": "J-FOQgglubqO"
      },
      "source": [
        "df['sentiment'] = df.score.apply(to_sentiment)"
      ],
      "execution_count": null,
      "outputs": []
    },
    {
      "cell_type": "code",
      "metadata": {
        "id": "srEjKE2SvIlW"
      },
      "source": [
        "class_name = ['negatif', 'netral' , 'positif']"
      ],
      "execution_count": null,
      "outputs": []
    },
    {
      "cell_type": "code",
      "metadata": {
        "id": "hi-ifjZN2pLe"
      },
      "source": [
        "df.head()\n",
        "df.to_csv('ulasan_bersentiment.csv')"
      ],
      "execution_count": null,
      "outputs": []
    },
    {
      "cell_type": "markdown",
      "metadata": {
        "id": "EMUAnHfMn6Bv"
      },
      "source": [
        "##Tokenisasi Data Ulasan"
      ]
    },
    {
      "cell_type": "code",
      "metadata": {
        "id": "MCi4kD8R2zdd",
        "colab": {
          "base_uri": "https://localhost:8080/"
        },
        "outputId": "fa9c3e12-b473-4127-94af-e6f6d3ec7183"
      },
      "source": [
        "tokenizer = Tokenizer(num_words=1619, split=\" \")\n",
        "tokenizer.fit_on_texts(listdata)\n",
        "X = tokenizer.texts_to_sequences(listdata)\n",
        "X = pad_sequences(X)\n",
        "X[:5]"
      ],
      "execution_count": null,
      "outputs": [
        {
          "output_type": "execute_result",
          "data": {
            "text/plain": [
              "array([[  0,   0,   0,   0,   0,   0,   0,   0,   0,   0,   0,   0,   0,\n",
              "          0,   0,   0,   0,   0,   0,   0,   0,   0,   0,   0,   0,   0,\n",
              "          0,   0,   0,   0,   0,   0,   0,   0,   0,   0,  64,   3, 193,\n",
              "        327, 623,   5, 624,  56, 412,  14, 413, 625,  64,   3,   5, 194,\n",
              "         41, 626,  90,   3,   8,  64, 112, 414, 415, 627,  21],\n",
              "       [  0,   0,   0,   0,   0, 193,  21,  20,  64,   2,  18,   8, 147,\n",
              "        148, 265, 628, 221,   6, 131, 629, 266, 416,   8,  49,  23, 132,\n",
              "         20,   1, 417,  44,   3, 630, 631, 149, 632, 267, 633, 267,   6,\n",
              "        131, 112, 634,  65, 635, 416,   8, 636, 222, 132,  64,   3,   5,\n",
              "        418,   6, 328, 419, 419, 113, 637, 638,  64, 420,   5],\n",
              "       [  0,   0,   0,   0,   0,   0,   0,   0,   0,   0,   0,   0,   0,\n",
              "          0,   0,   0,   0,   0,   0,   0,   0,   0,   0,   0,   0,   0,\n",
              "          0,   0,   0,   0,   0,   0,   0,   0,   0,   0, 421, 639,  91,\n",
              "          1, 640, 641, 642, 643, 195, 114,  14, 266, 195, 644,   1,   6,\n",
              "        645,  53,  16, 268, 196, 269, 646, 270, 329, 133, 647],\n",
              "       [  0,   0,   0,   0,   0,   0,   0,   0,   0,   0,   0,   0,   0,\n",
              "          0,   0,   0,   0,   0,   0,   0,   0,   0,   0,   0,   0,   0,\n",
              "          0,   0,   0,   0,   0,   0,   0,   0,   0,   0,   0,   0,   0,\n",
              "          0,   0,   0,   0,  11,  17,  12, 223,  11,   9,  39,   2, 648,\n",
              "         21,   9, 649,   6, 150,   2, 650, 651,  41,  11,  16],\n",
              "       [  0,   0,   0,   0,   0,   0,   0,   0,   0,   0,   0,   0,   0,\n",
              "          0,   0,   0,   0,   0,   0,   0,   0,   0,   0,   0,   0,   0,\n",
              "          0,   0,   0,   0,   0,   0,   0,   0,   0,   0,   0,   0,   0,\n",
              "          0,   0,   0,   0,   0,   0,   0,   0,   0,   0,   0,   0,   0,\n",
              "          0,   0,   0,   0,   0,   0,   0,   0,   0,   0,  41]],\n",
              "      dtype=int32)"
            ]
          },
          "metadata": {
            "tags": []
          },
          "execution_count": 10
        }
      ]
    },
    {
      "cell_type": "markdown",
      "metadata": {
        "id": "q0YecfJxok3x"
      },
      "source": [
        "##Mengubah Data Label menjadi Biner"
      ]
    },
    {
      "cell_type": "code",
      "metadata": {
        "colab": {
          "base_uri": "https://localhost:8080/"
        },
        "id": "ewumJIgs3A34",
        "outputId": "d449b13c-0011-437c-f886-21dba5c76517"
      },
      "source": [
        "y = pd.get_dummies(df['sentiment']).values\n",
        "[print(df['sentiment'][i], y[i]) for i in range (0,5)]"
      ],
      "execution_count": null,
      "outputs": [
        {
          "output_type": "stream",
          "text": [
            "0 [1 0 0]\n",
            "0 [1 0 0]\n",
            "0 [1 0 0]\n",
            "0 [1 0 0]\n",
            "0 [1 0 0]\n"
          ],
          "name": "stdout"
        },
        {
          "output_type": "execute_result",
          "data": {
            "text/plain": [
              "[None, None, None, None, None]"
            ]
          },
          "metadata": {
            "tags": []
          },
          "execution_count": 11
        }
      ]
    },
    {
      "cell_type": "markdown",
      "metadata": {
        "id": "OSBRkUybqjel"
      },
      "source": [
        "##Membagi data train dan data test"
      ]
    },
    {
      "cell_type": "code",
      "metadata": {
        "id": "m2s8BoXf3a6B",
        "colab": {
          "base_uri": "https://localhost:8080/"
        },
        "outputId": "42d7a590-596a-4088-b2a7-2d4e47aec6d0"
      },
      "source": [
        "index = np.arange(X.shape[0])\n",
        "X_train, X_test, y_train, y_test, idx_train, idx_test = train_test_split(X, y,\n",
        "                                                                         index,\n",
        "                                                                         test_size=0.2,\n",
        "                                                                         random_state=0)\n",
        "print(X_test.shape)\n",
        "print(y_train.shape)\n",
        "print(y_test.shape)"
      ],
      "execution_count": null,
      "outputs": [
        {
          "output_type": "stream",
          "text": [
            "(110, 63)\n",
            "(439, 3)\n",
            "(110, 3)\n"
          ],
          "name": "stdout"
        }
      ]
    },
    {
      "cell_type": "markdown",
      "metadata": {
        "id": "Ke2ByS1_zi4M"
      },
      "source": [
        "##Membangun Arsitektur Model"
      ]
    },
    {
      "cell_type": "code",
      "metadata": {
        "colab": {
          "base_uri": "https://localhost:8080/"
        },
        "id": "myb8OQgbrUZQ",
        "outputId": "85d5e543-44b4-4bbc-e91c-c47331c982cd"
      },
      "source": [
        "model = Sequential()\n",
        "model.add(Embedding(1619, 400, input_length=X_train.shape[1]))\n",
        "model.add(LSTM(400))\n",
        "model.add(Dense(3, activation='sigmoid'))\n",
        "adam = tf.keras.optimizers.Adam(lr=0.001)\n",
        "model.compile(loss='binary_crossentropy', optimizer='adam', metrics=['accuracy'])\n",
        "model.summary()"
      ],
      "execution_count": null,
      "outputs": [
        {
          "output_type": "stream",
          "text": [
            "Model: \"sequential\"\n",
            "_________________________________________________________________\n",
            "Layer (type)                 Output Shape              Param #   \n",
            "=================================================================\n",
            "embedding (Embedding)        (None, 63, 400)           647600    \n",
            "_________________________________________________________________\n",
            "lstm (LSTM)                  (None, 400)               1281600   \n",
            "_________________________________________________________________\n",
            "dense (Dense)                (None, 3)                 1203      \n",
            "=================================================================\n",
            "Total params: 1,930,403\n",
            "Trainable params: 1,930,403\n",
            "Non-trainable params: 0\n",
            "_________________________________________________________________\n"
          ],
          "name": "stdout"
        }
      ]
    },
    {
      "cell_type": "markdown",
      "metadata": {
        "id": "wDJOnObl3EmR"
      },
      "source": [
        "##Mentraining Model"
      ]
    },
    {
      "cell_type": "code",
      "metadata": {
        "colab": {
          "base_uri": "https://localhost:8080/"
        },
        "id": "qXGA7O-5zqUc",
        "outputId": "f4974bcf-f8fb-4758-e2f7-814858d3fdc1"
      },
      "source": [
        "checkpointer = tf.keras.callbacks.ModelCheckpoint(filepath='weights6.hdf5', monitor='val_loss', verbose=1, save_best_only=True, mode='max')\n",
        "batch_size = 32\n",
        "epochs = 10\n",
        "lstm = model.fit(X_train, y_train,\n",
        "                 validation_split=0.3,\n",
        "                 epochs=epochs, batch_size=batch_size,\n",
        "                 verbose=1,\n",
        "                 callbacks=[checkpointer])"
      ],
      "execution_count": null,
      "outputs": [
        {
          "output_type": "stream",
          "text": [
            "Epoch 1/10\n",
            "10/10 [==============================] - 10s 833ms/step - loss: 0.6466 - accuracy: 0.4121 - val_loss: 0.5519 - val_accuracy: 0.6894\n",
            "\n",
            "Epoch 00001: val_loss improved from -inf to 0.55185, saving model to weights6.hdf5\n",
            "Epoch 2/10\n",
            "10/10 [==============================] - 7s 743ms/step - loss: 0.5360 - accuracy: 0.6363 - val_loss: 0.4914 - val_accuracy: 0.7424\n",
            "\n",
            "Epoch 00002: val_loss did not improve from 0.55185\n",
            "Epoch 3/10\n",
            "10/10 [==============================] - 7s 725ms/step - loss: 0.4538 - accuracy: 0.7298 - val_loss: 0.4377 - val_accuracy: 0.7197\n",
            "\n",
            "Epoch 00003: val_loss did not improve from 0.55185\n",
            "Epoch 4/10\n",
            "10/10 [==============================] - 7s 730ms/step - loss: 0.3758 - accuracy: 0.7687 - val_loss: 0.4127 - val_accuracy: 0.7500\n",
            "\n",
            "Epoch 00004: val_loss did not improve from 0.55185\n",
            "Epoch 5/10\n",
            "10/10 [==============================] - 7s 729ms/step - loss: 0.2607 - accuracy: 0.8425 - val_loss: 0.4238 - val_accuracy: 0.7424\n",
            "\n",
            "Epoch 00005: val_loss did not improve from 0.55185\n",
            "Epoch 6/10\n",
            "10/10 [==============================] - 8s 758ms/step - loss: 0.1836 - accuracy: 0.8633 - val_loss: 0.5478 - val_accuracy: 0.6364\n",
            "\n",
            "Epoch 00006: val_loss did not improve from 0.55185\n",
            "Epoch 7/10\n",
            "10/10 [==============================] - 8s 797ms/step - loss: 0.0863 - accuracy: 0.9707 - val_loss: 0.9302 - val_accuracy: 0.5455\n",
            "\n",
            "Epoch 00007: val_loss improved from 0.55185 to 0.93018, saving model to weights6.hdf5\n",
            "Epoch 8/10\n",
            "10/10 [==============================] - 8s 809ms/step - loss: 0.0581 - accuracy: 0.9774 - val_loss: 0.6145 - val_accuracy: 0.6364\n",
            "\n",
            "Epoch 00008: val_loss did not improve from 0.93018\n",
            "Epoch 9/10\n",
            "10/10 [==============================] - 8s 784ms/step - loss: 0.0544 - accuracy: 0.9878 - val_loss: 0.6420 - val_accuracy: 0.6970\n",
            "\n",
            "Epoch 00009: val_loss did not improve from 0.93018\n",
            "Epoch 10/10\n",
            "10/10 [==============================] - 7s 753ms/step - loss: 0.0319 - accuracy: 0.9870 - val_loss: 0.7072 - val_accuracy: 0.6742\n",
            "\n",
            "Epoch 00010: val_loss did not improve from 0.93018\n"
          ],
          "name": "stdout"
        }
      ]
    },
    {
      "cell_type": "markdown",
      "metadata": {
        "id": "n0ANK-oKgXrn"
      },
      "source": [
        "##Melihat Akurasi Training"
      ]
    },
    {
      "cell_type": "code",
      "metadata": {
        "id": "XTZqiTPB3vDK",
        "colab": {
          "base_uri": "https://localhost:8080/"
        },
        "outputId": "2f2f6503-e9e7-47f9-fbb5-28baf8b360f8"
      },
      "source": [
        "lstm.history"
      ],
      "execution_count": null,
      "outputs": [
        {
          "output_type": "execute_result",
          "data": {
            "text/plain": [
              "{'accuracy': [0.4918566644191742,\n",
              "  0.628664493560791,\n",
              "  0.732899010181427,\n",
              "  0.7882736325263977,\n",
              "  0.8599348664283752,\n",
              "  0.8827361464500427,\n",
              "  0.9706840515136719,\n",
              "  0.9706840515136719,\n",
              "  0.990227997303009,\n",
              "  0.990227997303009],\n",
              " 'loss': [0.6143893599510193,\n",
              "  0.5243549346923828,\n",
              "  0.44319844245910645,\n",
              "  0.34798821806907654,\n",
              "  0.2564375698566437,\n",
              "  0.1694164276123047,\n",
              "  0.07652506977319717,\n",
              "  0.06994330137968063,\n",
              "  0.04675102233886719,\n",
              "  0.024833720177412033],\n",
              " 'val_accuracy': [0.689393937587738,\n",
              "  0.7424242496490479,\n",
              "  0.7196969985961914,\n",
              "  0.75,\n",
              "  0.7424242496490479,\n",
              "  0.6363636255264282,\n",
              "  0.5454545617103577,\n",
              "  0.6363636255264282,\n",
              "  0.6969696879386902,\n",
              "  0.6742424368858337],\n",
              " 'val_loss': [0.5518530011177063,\n",
              "  0.4914436936378479,\n",
              "  0.4377419054508209,\n",
              "  0.41270899772644043,\n",
              "  0.4238300323486328,\n",
              "  0.5478127002716064,\n",
              "  0.9301841259002686,\n",
              "  0.6144580245018005,\n",
              "  0.6419607996940613,\n",
              "  0.7071740031242371]}"
            ]
          },
          "metadata": {
            "tags": []
          },
          "execution_count": 15
        }
      ]
    },
    {
      "cell_type": "code",
      "metadata": {
        "colab": {
          "base_uri": "https://localhost:8080/"
        },
        "id": "lT67vzq1gcyz",
        "outputId": "f3a71815-13e9-465b-a423-b8d71dcd372a"
      },
      "source": [
        "plt.plot(lstm.history['accuracy'])\n",
        "plt.plot(lstm.history['val_accuracy'])\n",
        "plt.title('Training dan Validasi Akurasi')\n",
        "plt.ylabel('akurasi')\n",
        "plt.xlabel('epoch')\n",
        "plt.legend(['train', 'val'], loc='upper left')\n",
        "plt.show()\n",
        "plt.plot(lstm.history['loss'])\n",
        "plt.plot(lstm.history['val_loss'])\n",
        "plt.title('Training dan Validasi Loss')\n",
        "plt.ylabel('Loss')\n",
        "plt.xlabel('epoch')\n",
        "plt.legend(['train', 'val'], loc='upper left')\n",
        "plt.show()"
      ],
      "execution_count": null,
      "outputs": [
        {
          "output_type": "display_data",
          "data": {
            "image/png": "[encoded data removed]",
            "text/plain": [
              "<Figure size 432x288 with 1 Axes>"
            ]
          },
          "metadata": {
            "tags": [],
            "needs_background": "light"
          }
        },
        {
          "output_type": "display_data",
          "data": {
            "image/png": "[encoded data removed]",
            "text/plain": [
              "<Figure size 432x288 with 1 Axes>"
            ]
          },
          "metadata": {
            "tags": [],
            "needs_background": "light"
          }
        }
      ]
    },
    {
      "cell_type": "code",
      "metadata": {
        "colab": {
          "base_uri": "https://localhost:8080/"
        },
        "id": "XbFsbWj1DeKK",
        "outputId": "d166c43b-116d-43e1-be17-3da3c146ec25"
      },
      "source": [
        "print(lstm.history['accuracy'])\n",
        "print(lstm.history['val_accuracy'])"
      ],
      "execution_count": null,
      "outputs": [
        {
          "output_type": "stream",
          "text": [
            "[0.4918566644191742, 0.628664493560791, 0.732899010181427, 0.7882736325263977, 0.8599348664283752, 0.8827361464500427, 0.9706840515136719, 0.9706840515136719, 0.990227997303009, 0.990227997303009]\n",
            "[0.689393937587738, 0.7424242496490479, 0.7196969985961914, 0.75, 0.7424242496490479, 0.6363636255264282, 0.5454545617103577, 0.6363636255264282, 0.6969696879386902, 0.6742424368858337]\n"
          ],
          "name": "stdout"
        }
      ]
    },
    {
      "cell_type": "code",
      "metadata": {
        "colab": {
          "base_uri": "https://localhost:8080/"
        },
        "id": "vCITSAD0DhJW",
        "outputId": "9d167c63-838d-44f1-ed25-ec6e7c3168df"
      },
      "source": [
        "print(lstm.history['loss'])\n",
        "print(lstm.history['val_loss'])"
      ],
      "execution_count": null,
      "outputs": [
        {
          "output_type": "stream",
          "text": [
            "[0.6143893599510193, 0.5243549346923828, 0.44319844245910645, 0.34798821806907654, 0.2564375698566437, 0.1694164276123047, 0.07652506977319717, 0.06994330137968063, 0.04675102233886719, 0.024833720177412033]\n",
            "[0.5518530011177063, 0.4914436936378479, 0.4377419054508209, 0.41270899772644043, 0.4238300323486328, 0.5478127002716064, 0.9301841259002686, 0.6144580245018005, 0.6419607996940613, 0.7071740031242371]\n"
          ],
          "name": "stdout"
        }
      ]
    },
    {
      "cell_type": "markdown",
      "metadata": {
        "id": "CHtel1fxjZg_"
      },
      "source": [
        "##Prediksi Data Test"
      ]
    },
    {
      "cell_type": "code",
      "metadata": {
        "colab": {
          "base_uri": "https://localhost:8080/"
        },
        "id": "wColnZDwibAF",
        "outputId": "a8b4b99f-965d-4f0e-8fa2-a03a3d0c06bd"
      },
      "source": [
        "prediksi = model.predict(X_test)\n",
        "[print(listdata[i], prediksi[i], y_test[i]) for i in range (0,5)]\n",
        "prediksi[:5]\n",
        "y_DL, y_T = [], []\n",
        "for x,y in zip (y_test, prediksi):\n",
        "    if x[0]>x[1]:\n",
        "      y_T.append('Neg')\n",
        "    else:\n",
        "      y_T.append('Pos')\n",
        "    if y[0]>y[1]:\n",
        "      y_DL.append('Neg')\n",
        "    else:\n",
        "      y_DL.append('Pos')\n",
        "print(y_DL[:5])\n",
        "print(y_T[:5])"
      ],
      "execution_count": null,
      "outputs": [
        {
          "output_type": "stream",
          "text": [
            "jasa kirim parah pilih pengirinan yg expres tp ttp aja super duper jasa kirim yg guna kecewa klien sampe kirim paket jasa lg harap sumpah kesal banget [0.04389501 0.95563626 0.00917497] [1 0 0]\n",
            "parah banget pakai jasa pos indonesia paket tgl 5 8 des 2020 gak tau juntrung mana posisi paket cek update dgn pakai aplikasi cm data kirim tkp pd tanggal pengitiman it aza it gak tau lg ntah sdh dmn posisi paket nys saing dgn jasa kirim yg kl gak ubah pelan pelan konsumen kspok lari jasa expedisi yg [0.04734653 0.00983071 0.9384465 ] [0 0 1]\n",
            "ajar dl bikin aplikasi post play store ngabisin duit usaha aja mana duit rakyat aplikasi gak beres2 gin baik makan gaji buta jgn2 harga mahal dr pasar [9.978170e-01 8.104593e-03 1.835823e-04] [1 0 0]\n",
            "tolong kurir barang sampek tolong uang setor pos lut banget uang ngendak gak kayak pos skrang bnyak kecewa tolong baik [0.7464389  0.30426532 0.0201844 ] [1 0 0]\n",
            "kecewa [0.35223526 0.06519702 0.43372658] [1 0 0]\n",
            "['Pos', 'Neg', 'Neg', 'Neg', 'Neg']\n",
            "['Neg', 'Pos', 'Neg', 'Neg', 'Neg']\n"
          ],
          "name": "stdout"
        }
      ]
    },
    {
      "cell_type": "markdown",
      "metadata": {
        "id": "n2piZO31m67j"
      },
      "source": [
        "##Confussion Matrix"
      ]
    },
    {
      "cell_type": "code",
      "metadata": {
        "colab": {
          "base_uri": "https://localhost:8080/"
        },
        "id": "M6oqIHyClB7H",
        "outputId": "06d94f3e-706b-4594-ea85-4d98a278b4c3"
      },
      "source": [
        "print(confusion_matrix(y_T, y_DL))\n",
        "print(classification_report(y_T, y_DL))"
      ],
      "execution_count": null,
      "outputs": [
        {
          "output_type": "stream",
          "text": [
            "[[42  8]\n",
            " [36 24]]\n",
            "              precision    recall  f1-score   support\n",
            "\n",
            "         Neg       0.54      0.84      0.66        50\n",
            "         Pos       0.75      0.40      0.52        60\n",
            "\n",
            "    accuracy                           0.60       110\n",
            "   macro avg       0.64      0.62      0.59       110\n",
            "weighted avg       0.65      0.60      0.58       110\n",
            "\n"
          ],
          "name": "stdout"
        }
      ]
    },
    {
      "cell_type": "markdown",
      "metadata": {
        "id": "y9IBbK_7nN5X"
      },
      "source": [
        "##Hasil Akurasi Data Test"
      ]
    },
    {
      "cell_type": "code",
      "metadata": {
        "colab": {
          "base_uri": "https://localhost:8080/"
        },
        "id": "6ug_gpLBnJzA",
        "outputId": "77485bf6-5934-4b59-bf84-778447716139"
      },
      "source": [
        "score = model.evaluate(X_test, y_test, verbose=0)\n",
        "print(\"Test Loss : %.2f%%\" % (score[0]))\n",
        "print(\"Accuracy : %.2f%%\" % (score[1]))"
      ],
      "execution_count": null,
      "outputs": [
        {
          "output_type": "stream",
          "text": [
            "Test Loss : 0.57%\n",
            "Accuracy : 0.68%\n"
          ],
          "name": "stdout"
        }
      ]
    },
    {
      "cell_type": "code",
      "metadata": {
        "id": "Tz9Ul1FSnhq_"
      },
      "source": [
        ""
      ],
      "execution_count": null,
      "outputs": []
    },
    {
      "cell_type": "code",
      "metadata": {
        "id": "7g2cdcisoxXX"
      },
      "source": [
        "data_test = list(df['content'][idx_test].values)\n",
        "rating_test = list(df['score'][idx_test].values)\n",
        "sentiment_test = y_DL\n",
        "dict_tst = {'test data': data_test, 'hasil_sentiment': sentiment_test, 'rating':rating_test}\n",
        "prediksi_test = pd.DataFrame(dict_tst)\n",
        "prediksi_test.to_csv('prediksi_test.csv')"
      ],
      "execution_count": null,
      "outputs": []
    },
    {
      "cell_type": "code",
      "metadata": {
        "id": "zaahKrjQ1S-D"
      },
      "source": [
        ""
      ],
      "execution_count": null,
      "outputs": []
    }
  ]
}
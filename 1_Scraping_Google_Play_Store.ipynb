{
  "nbformat": 4,
  "nbformat_minor": 0,
  "metadata": {
    "colab": {
      "name": "1 Scraping Google Play Store",
      "provenance": [],
      "collapsed_sections": [],
      "toc_visible": true
    },
    "kernelspec": {
      "name": "python3",
      "display_name": "Python 3"
    },
    "accelerator": "GPU"
  },
  "cells": [
    {
      "cell_type": "code",
      "metadata": {
        "colab": {
          "base_uri": "https://localhost:8080/"
        },
        "id": "h6is2xgWEm3c",
        "outputId": "818cacc6-0bd9-4b30-9811-841487a93463"
      },
      "source": [
        "!pip install -qq google-play-scraper"
      ],
      "execution_count": null,
      "outputs": [
        {
          "output_type": "stream",
          "text": [
            "\u001b[?25l\r\u001b[K     |██████▋                         | 10kB 24.6MB/s eta 0:00:01\r\u001b[K     |█████████████▎                  | 20kB 30.6MB/s eta 0:00:01\r\u001b[K     |████████████████████            | 30kB 23.3MB/s eta 0:00:01\r\u001b[K     |██████████████████████████▌     | 40kB 20.8MB/s eta 0:00:01\r\u001b[K     |████████████████████████████████| 51kB 6.2MB/s \n",
            "\u001b[?25h  Building wheel for google-play-scraper (setup.py) ... \u001b[?25l\u001b[?25hdone\n"
          ],
          "name": "stdout"
        }
      ]
    },
    {
      "cell_type": "code",
      "metadata": {
        "id": "H0Vk2a9bFm6Y"
      },
      "source": [
        "import json\n",
        "import pandas as pd\n",
        "from tqdm import tqdm\n",
        "\n",
        "import seaborn as sns\n",
        "import matplotlib.pyplot as plt\n",
        "\n",
        "from pygments import highlight\n",
        "from pygments.lexers import JsonLexer\n",
        "from pygments.formatters import TerminalFormatter\n",
        "\n",
        "from google_play_scraper import Sort, reviews, app\n",
        "\n",
        "%matplotlib inline\n",
        "%config InlineBackend.figure_format='retina'\n",
        "\n",
        "sns.set(style='whitegrid', palette='muted', font_scale=1.2)"
      ],
      "execution_count": null,
      "outputs": []
    },
    {
      "cell_type": "code",
      "metadata": {
        "id": "NBq9HsuAHCWY"
      },
      "source": [
        "app_pack = [\n",
        "'com.posindonesia.cob',\n",
        "]"
      ],
      "execution_count": null,
      "outputs": []
    },
    {
      "cell_type": "code",
      "metadata": {
        "colab": {
          "base_uri": "https://localhost:8080/"
        },
        "id": "KW-MYMRIL3oD",
        "outputId": "422179a0-a11c-4fd5-8291-4a4a20a017dc"
      },
      "source": [
        "print(app_pack)"
      ],
      "execution_count": null,
      "outputs": [
        {
          "output_type": "stream",
          "text": [
            "['com.posindonesia.cob']\n"
          ],
          "name": "stdout"
        }
      ]
    },
    {
      "cell_type": "code",
      "metadata": {
        "colab": {
          "base_uri": "https://localhost:8080/"
        },
        "id": "OKg9lMTaMUnw",
        "outputId": "e7c58097-b763-4997-c297-258e94db9ba7"
      },
      "source": [
        "app_infos = []\n",
        "\n",
        "for ap in tqdm(app_pack):\n",
        "  info = app(ap, lang='in', country='us')\n",
        "  del info['comments']\n",
        "  app_infos.append(info)"
      ],
      "execution_count": null,
      "outputs": [
        {
          "output_type": "stream",
          "text": [
            "100%|██████████| 1/1 [00:00<00:00,  4.03it/s]\n"
          ],
          "name": "stderr"
        }
      ]
    },
    {
      "cell_type": "code",
      "metadata": {
        "id": "Jr4mDHhrNWuy"
      },
      "source": [
        "def print_json(json_object):\n",
        "  json_str =json.dumps(\n",
        "      json_object,\n",
        "      indent=2,\n",
        "      sort_keys=True,\n",
        "      default=str\n",
        "  )\n",
        "\n",
        "  print(highlight(json_str, JsonLexer(), TerminalFormatter()))"
      ],
      "execution_count": null,
      "outputs": []
    },
    {
      "cell_type": "code",
      "metadata": {
        "colab": {
          "base_uri": "https://localhost:8080/"
        },
        "id": "_SL09SwfPyvM",
        "outputId": "145b66c5-f077-4b6a-cd14-ce5f498e74f1"
      },
      "source": [
        "print_json(app_infos[0])"
      ],
      "execution_count": null,
      "outputs": [
        {
          "output_type": "stream",
          "text": [
            "{\n",
            "  \u001b[94m\"adSupported\"\u001b[39;49;00m: \u001b[34mnull\u001b[39;49;00m,\n",
            "  \u001b[94m\"androidVersion\"\u001b[39;49;00m: \u001b[33m\"5.0\"\u001b[39;49;00m,\n",
            "  \u001b[94m\"androidVersionText\"\u001b[39;49;00m: \u001b[33m\"5.0 dan yang lebih tinggi\"\u001b[39;49;00m,\n",
            "  \u001b[94m\"appId\"\u001b[39;49;00m: \u001b[33m\"com.posindonesia.cob\"\u001b[39;49;00m,\n",
            "  \u001b[94m\"containsAds\"\u001b[39;49;00m: \u001b[34mfalse\u001b[39;49;00m,\n",
            "  \u001b[94m\"contentRating\"\u001b[39;49;00m: \u001b[33m\"Siapa saja\"\u001b[39;49;00m,\n",
            "  \u001b[94m\"contentRatingDescription\"\u001b[39;49;00m: \u001b[34mnull\u001b[39;49;00m,\n",
            "  \u001b[94m\"currency\"\u001b[39;49;00m: \u001b[33m\"USD\"\u001b[39;49;00m,\n",
            "  \u001b[94m\"description\"\u001b[39;49;00m: \u001b[33m\"QPOSin AJA merupakan aplikasi resmi PT Pos Indonesia (Persero) yang dapat digunakan oleh para pebisol maupun seluruh masyarakat untuk melakukan order pengiriman \\r\\nsurat atau paket. Dengan aplikasi ini pelanggan dapat melakukan sendiri entri data pengirimannya dan melakukan permintaan penjemputan kiriman dilokasi pengiriman/pelanggan. \\r\\nKiriman langsung dijemput oleh petugas pickup (Oranger & Faster) ke lokasi pengirim yang melakukan order.\"\u001b[39;49;00m,\n",
            "  \u001b[94m\"descriptionHTML\"\u001b[39;49;00m: \u001b[33m\"QPOSin AJA merupakan aplikasi resmi PT Pos Indonesia (Persero) yang dapat digunakan oleh para pebisol maupun seluruh masyarakat untuk melakukan order pengiriman <br>surat atau paket. Dengan aplikasi ini pelanggan dapat melakukan sendiri entri data pengirimannya dan melakukan permintaan penjemputan kiriman dilokasi pengiriman/pelanggan. <br>Kiriman langsung dijemput oleh petugas pickup (Oranger &amp; Faster) ke lokasi pengirim yang melakukan order.\"\u001b[39;49;00m,\n",
            "  \u001b[94m\"developer\"\u001b[39;49;00m: \u001b[33m\"PT Pos Indonesia Developer Team\"\u001b[39;49;00m,\n",
            "  \u001b[94m\"developerAddress\"\u001b[39;49;00m: \u001b[34mnull\u001b[39;49;00m,\n",
            "  \u001b[94m\"developerEmail\"\u001b[39;49;00m: \u001b[33m\"halopos@posindonesia.co.id\"\u001b[39;49;00m,\n",
            "  \u001b[94m\"developerId\"\u001b[39;49;00m: \u001b[33m\"PT+Pos+Indonesia+Developer+Team\"\u001b[39;49;00m,\n",
            "  \u001b[94m\"developerInternalID\"\u001b[39;49;00m: \u001b[33m\"7329437954947079372\"\u001b[39;49;00m,\n",
            "  \u001b[94m\"developerWebsite\"\u001b[39;49;00m: \u001b[33m\"https://www.posindonesia.co.id/\"\u001b[39;49;00m,\n",
            "  \u001b[94m\"editorsChoice\"\u001b[39;49;00m: \u001b[34mfalse\u001b[39;49;00m,\n",
            "  \u001b[94m\"free\"\u001b[39;49;00m: \u001b[34mtrue\u001b[39;49;00m,\n",
            "  \u001b[94m\"genre\"\u001b[39;49;00m: \u001b[33m\"Produktivitas\"\u001b[39;49;00m,\n",
            "  \u001b[94m\"genreId\"\u001b[39;49;00m: \u001b[33m\"PRODUCTIVITY\"\u001b[39;49;00m,\n",
            "  \u001b[94m\"headerImage\"\u001b[39;49;00m: \u001b[33m\"https://play-lh.googleusercontent.com/V6-kdH9bIS8DbkzAUW-DztlnmHIKi9DohppJPnB7-p9HKSECTyFNQcAAGbVME5hBvEUh\"\u001b[39;49;00m,\n",
            "  \u001b[94m\"histogram\"\u001b[39;49;00m: [\n",
            "    \u001b[34m419\u001b[39;49;00m,\n",
            "    \u001b[34m78\u001b[39;49;00m,\n",
            "    \u001b[34m175\u001b[39;49;00m,\n",
            "    \u001b[34m78\u001b[39;49;00m,\n",
            "    \u001b[34m448\u001b[39;49;00m\n",
            "  ],\n",
            "  \u001b[94m\"icon\"\u001b[39;49;00m: \u001b[33m\"https://play-lh.googleusercontent.com/-5uaD2rmHuJpT4HMw_2XAjNdSTf4ZRgcom7KA4ZDS6F3uZDff25nWbYz7aSxjsbX_4Br\"\u001b[39;49;00m,\n",
            "  \u001b[94m\"inAppProductPrice\"\u001b[39;49;00m: \u001b[34mnull\u001b[39;49;00m,\n",
            "  \u001b[94m\"installs\"\u001b[39;49;00m: \u001b[33m\"50.000+\"\u001b[39;49;00m,\n",
            "  \u001b[94m\"minInstalls\"\u001b[39;49;00m: \u001b[34m50000\u001b[39;49;00m,\n",
            "  \u001b[94m\"offersIAP\"\u001b[39;49;00m: \u001b[34mfalse\u001b[39;49;00m,\n",
            "  \u001b[94m\"originalPrice\"\u001b[39;49;00m: \u001b[34mnull\u001b[39;49;00m,\n",
            "  \u001b[94m\"price\"\u001b[39;49;00m: \u001b[34m0\u001b[39;49;00m,\n",
            "  \u001b[94m\"privacyPolicy\"\u001b[39;49;00m: \u001b[33m\"http://fintech-mon.posindonesia.co.id/privacy-policy-qposin.html\"\u001b[39;49;00m,\n",
            "  \u001b[94m\"ratings\"\u001b[39;49;00m: \u001b[34m1198\u001b[39;49;00m,\n",
            "  \u001b[94m\"recentChanges\"\u001b[39;49;00m: \u001b[33m\"1. Penambahan Notifikasi Q9+\\r\\n2. Penambahan Fitur tracking pickup\\r\\n3. Perbaikan bug di versi sebelumnya\"\u001b[39;49;00m,\n",
            "  \u001b[94m\"recentChangesHTML\"\u001b[39;49;00m: \u001b[33m\"1. Penambahan Notifikasi Q9+<br>2. Penambahan Fitur tracking pickup<br>3. Perbaikan bug di versi sebelumnya\"\u001b[39;49;00m,\n",
            "  \u001b[94m\"released\"\u001b[39;49;00m: \u001b[33m\"27 Feb 2020\"\u001b[39;49;00m,\n",
            "  \u001b[94m\"reviews\"\u001b[39;49;00m: \u001b[34m936\u001b[39;49;00m,\n",
            "  \u001b[94m\"sale\"\u001b[39;49;00m: \u001b[34mfalse\u001b[39;49;00m,\n",
            "  \u001b[94m\"saleText\"\u001b[39;49;00m: \u001b[34mnull\u001b[39;49;00m,\n",
            "  \u001b[94m\"saleTime\"\u001b[39;49;00m: \u001b[34mnull\u001b[39;49;00m,\n",
            "  \u001b[94m\"score\"\u001b[39;49;00m: \u001b[34m3.0487804\u001b[39;49;00m,\n",
            "  \u001b[94m\"screenshots\"\u001b[39;49;00m: [\n",
            "    \u001b[33m\"https://play-lh.googleusercontent.com/BpRj5FogatdlOpgZFahQGXqEjSjBeWq-EsRct7aTR37sBEzTctFTQBU1qx8rE5XUS8Q\"\u001b[39;49;00m,\n",
            "    \u001b[33m\"https://play-lh.googleusercontent.com/7EeECNv1Kw8H8wgLk7_L3Qmcvmq42w7gcXGqBBh65eC8hVvQSjnZrFdcuJy_sEfW9C4W\"\u001b[39;49;00m,\n",
            "    \u001b[33m\"https://play-lh.googleusercontent.com/dTo2Gj3lPmpgzHrbdHVf82woKgsLGw35X6qkxG63cEV865-57VAjbNxcipka-QJMIA\"\u001b[39;49;00m,\n",
            "    \u001b[33m\"https://play-lh.googleusercontent.com/Y18zt6wJKtoUF5LSuVBolwPxLI2Y7UEFc9vxn4SXZZmEMhpkZGEKPn2voYy2H5Q0k5U\"\u001b[39;49;00m,\n",
            "    \u001b[33m\"https://play-lh.googleusercontent.com/5U3qFPSQJ_w_xPGO5aYa_dGeDBU1Gxh8sZT9w3AiTt5RRovqb3cyHGL9BnbkFYfIXsY\"\u001b[39;49;00m\n",
            "  ],\n",
            "  \u001b[94m\"size\"\u001b[39;49;00m: \u001b[33m\"52M\"\u001b[39;49;00m,\n",
            "  \u001b[94m\"summary\"\u001b[39;49;00m: \u001b[33m\"QPOSin AJA - Mudahnya berkirim paket melalui Pos Indonesia\"\u001b[39;49;00m,\n",
            "  \u001b[94m\"summaryHTML\"\u001b[39;49;00m: \u001b[33m\"QPOSin AJA - Mudahnya berkirim paket melalui Pos Indonesia\"\u001b[39;49;00m,\n",
            "  \u001b[94m\"title\"\u001b[39;49;00m: \u001b[33m\"QPOSin AJA\"\u001b[39;49;00m,\n",
            "  \u001b[94m\"updated\"\u001b[39;49;00m: \u001b[34m1600092604\u001b[39;49;00m,\n",
            "  \u001b[94m\"url\"\u001b[39;49;00m: \u001b[33m\"https://play.google.com/store/apps/details?id=com.posindonesia.cob&hl=in&gl=us\"\u001b[39;49;00m,\n",
            "  \u001b[94m\"version\"\u001b[39;49;00m: \u001b[33m\"0.2.4\"\u001b[39;49;00m,\n",
            "  \u001b[94m\"video\"\u001b[39;49;00m: \u001b[34mnull\u001b[39;49;00m,\n",
            "  \u001b[94m\"videoImage\"\u001b[39;49;00m: \u001b[34mnull\u001b[39;49;00m\n",
            "}\n",
            "\n"
          ],
          "name": "stdout"
        }
      ]
    },
    {
      "cell_type": "code",
      "metadata": {
        "colab": {
          "base_uri": "https://localhost:8080/",
          "height": 202
        },
        "id": "Z3kwFBFyP547",
        "outputId": "db909ea8-022b-4d33-8efe-d8e1122a4676"
      },
      "source": [
        "app_infos_df = pd.DataFrame(app_infos)\n",
        "app_infos_df.head()"
      ],
      "execution_count": null,
      "outputs": [
        {
          "output_type": "execute_result",
          "data": {
            "text/html": [
              "<div>\n",
              "<style scoped>\n",
              "    .dataframe tbody tr th:only-of-type {\n",
              "        vertical-align: middle;\n",
              "    }\n",
              "\n",
              "    .dataframe tbody tr th {\n",
              "        vertical-align: top;\n",
              "    }\n",
              "\n",
              "    .dataframe thead th {\n",
              "        text-align: right;\n",
              "    }\n",
              "</style>\n",
              "<table border=\"1\" class=\"dataframe\">\n",
              "  <thead>\n",
              "    <tr style=\"text-align: right;\">\n",
              "      <th></th>\n",
              "      <th>title</th>\n",
              "      <th>description</th>\n",
              "      <th>descriptionHTML</th>\n",
              "      <th>summary</th>\n",
              "      <th>summaryHTML</th>\n",
              "      <th>installs</th>\n",
              "      <th>minInstalls</th>\n",
              "      <th>score</th>\n",
              "      <th>ratings</th>\n",
              "      <th>reviews</th>\n",
              "      <th>histogram</th>\n",
              "      <th>price</th>\n",
              "      <th>free</th>\n",
              "      <th>currency</th>\n",
              "      <th>sale</th>\n",
              "      <th>saleTime</th>\n",
              "      <th>originalPrice</th>\n",
              "      <th>saleText</th>\n",
              "      <th>offersIAP</th>\n",
              "      <th>inAppProductPrice</th>\n",
              "      <th>size</th>\n",
              "      <th>androidVersion</th>\n",
              "      <th>androidVersionText</th>\n",
              "      <th>developer</th>\n",
              "      <th>developerId</th>\n",
              "      <th>developerEmail</th>\n",
              "      <th>developerWebsite</th>\n",
              "      <th>developerAddress</th>\n",
              "      <th>privacyPolicy</th>\n",
              "      <th>developerInternalID</th>\n",
              "      <th>genre</th>\n",
              "      <th>genreId</th>\n",
              "      <th>icon</th>\n",
              "      <th>headerImage</th>\n",
              "      <th>screenshots</th>\n",
              "      <th>video</th>\n",
              "      <th>videoImage</th>\n",
              "      <th>contentRating</th>\n",
              "      <th>contentRatingDescription</th>\n",
              "      <th>adSupported</th>\n",
              "      <th>containsAds</th>\n",
              "      <th>released</th>\n",
              "      <th>updated</th>\n",
              "      <th>version</th>\n",
              "      <th>recentChanges</th>\n",
              "      <th>recentChangesHTML</th>\n",
              "      <th>editorsChoice</th>\n",
              "      <th>appId</th>\n",
              "      <th>url</th>\n",
              "    </tr>\n",
              "  </thead>\n",
              "  <tbody>\n",
              "    <tr>\n",
              "      <th>0</th>\n",
              "      <td>QPOSin AJA</td>\n",
              "      <td>QPOSin AJA merupakan aplikasi resmi PT Pos Ind...</td>\n",
              "      <td>QPOSin AJA merupakan aplikasi resmi PT Pos Ind...</td>\n",
              "      <td>QPOSin AJA - Mudahnya berkirim paket melalui P...</td>\n",
              "      <td>QPOSin AJA - Mudahnya berkirim paket melalui P...</td>\n",
              "      <td>50.000+</td>\n",
              "      <td>50000</td>\n",
              "      <td>3.04878</td>\n",
              "      <td>1198</td>\n",
              "      <td>936</td>\n",
              "      <td>[419, 78, 175, 78, 448]</td>\n",
              "      <td>0</td>\n",
              "      <td>True</td>\n",
              "      <td>USD</td>\n",
              "      <td>False</td>\n",
              "      <td>None</td>\n",
              "      <td>None</td>\n",
              "      <td>None</td>\n",
              "      <td>False</td>\n",
              "      <td>None</td>\n",
              "      <td>52M</td>\n",
              "      <td>5.0</td>\n",
              "      <td>5.0 dan yang lebih tinggi</td>\n",
              "      <td>PT Pos Indonesia Developer Team</td>\n",
              "      <td>PT+Pos+Indonesia+Developer+Team</td>\n",
              "      <td>halopos@posindonesia.co.id</td>\n",
              "      <td>https://www.posindonesia.co.id/</td>\n",
              "      <td>None</td>\n",
              "      <td>http://fintech-mon.posindonesia.co.id/privacy-...</td>\n",
              "      <td>7329437954947079372</td>\n",
              "      <td>Produktivitas</td>\n",
              "      <td>PRODUCTIVITY</td>\n",
              "      <td>https://play-lh.googleusercontent.com/-5uaD2rm...</td>\n",
              "      <td>https://play-lh.googleusercontent.com/V6-kdH9b...</td>\n",
              "      <td>[https://play-lh.googleusercontent.com/BpRj5Fo...</td>\n",
              "      <td>None</td>\n",
              "      <td>None</td>\n",
              "      <td>Siapa saja</td>\n",
              "      <td>None</td>\n",
              "      <td>None</td>\n",
              "      <td>False</td>\n",
              "      <td>27 Feb 2020</td>\n",
              "      <td>1600092604</td>\n",
              "      <td>0.2.4</td>\n",
              "      <td>1. Penambahan Notifikasi Q9+\\r\\n2. Penambahan ...</td>\n",
              "      <td>1. Penambahan Notifikasi Q9+&lt;br&gt;2. Penambahan ...</td>\n",
              "      <td>False</td>\n",
              "      <td>com.posindonesia.cob</td>\n",
              "      <td>https://play.google.com/store/apps/details?id=...</td>\n",
              "    </tr>\n",
              "  </tbody>\n",
              "</table>\n",
              "</div>"
            ],
            "text/plain": [
              "        title  ...                                                url\n",
              "0  QPOSin AJA  ...  https://play.google.com/store/apps/details?id=...\n",
              "\n",
              "[1 rows x 49 columns]"
            ]
          },
          "metadata": {
            "tags": []
          },
          "execution_count": 8
        }
      ]
    },
    {
      "cell_type": "markdown",
      "metadata": {
        "id": "mQhTleKgUjuH"
      },
      "source": [
        "## GET REVIEW APPS"
      ]
    },
    {
      "cell_type": "code",
      "metadata": {
        "colab": {
          "base_uri": "https://localhost:8080/"
        },
        "id": "sWurjuhmT6LP",
        "outputId": "3df5491e-5b1f-4cb3-ad0d-699e71bd7db6"
      },
      "source": [
        "app_reviews = []\n",
        "\n",
        "for ap in tqdm(app_pack):\n",
        "  for score in range(1, 6):\n",
        "    for sort_order in [Sort.MOST_RELEVANT, Sort.NEWEST]:\n",
        "      rvs = reviews(\n",
        "        ap,\n",
        "        lang='in',\n",
        "        country='in',\n",
        "        sort=sort_order,\n",
        "        count=300 if score == 3 else 200,\n",
        "        filter_score_with=score\n",
        "    )[0]\n",
        "\n",
        "    for r in rvs:\n",
        "      r['sortOrder'] = 'most_relevant' if sort_order == Sort.MOST_RELEVANT else 'newest'\n",
        "      r['appID'] = ap\n",
        "    app_reviews.extend(rvs)"
      ],
      "execution_count": null,
      "outputs": [
        {
          "output_type": "stream",
          "text": [
            "100%|██████████| 1/1 [00:03<00:00,  3.19s/it]\n"
          ],
          "name": "stderr"
        }
      ]
    },
    {
      "cell_type": "code",
      "metadata": {
        "colab": {
          "base_uri": "https://localhost:8080/"
        },
        "id": "yM5ydTnfZ7Y9",
        "outputId": "6e017411-8fa1-4b85-bca6-82fba8d2615f"
      },
      "source": [
        "print_json(app_reviews[0])"
      ],
      "execution_count": null,
      "outputs": [
        {
          "output_type": "stream",
          "text": [
            "{\n",
            "  \u001b[94m\"appID\"\u001b[39;49;00m: \u001b[33m\"com.posindonesia.cob\"\u001b[39;49;00m,\n",
            "  \u001b[94m\"at\"\u001b[39;49;00m: \u001b[33m\"2020-12-15 06:57:35\"\u001b[39;49;00m,\n",
            "  \u001b[94m\"content\"\u001b[39;49;00m: \u001b[33m\"Jasa pengiriman paling parah.. sudah memilih pengirinan yg expres tp ttp sama aja super duper lama.. jasa pengiriman yg tidak berguna,selalu mengecewakan klien nya.. jangan sampe kirim paket ke jasa ini lg tidak bisa diharapkan.sumpah kesal banget\"\u001b[39;49;00m,\n",
            "  \u001b[94m\"repliedAt\"\u001b[39;49;00m: \u001b[34mnull\u001b[39;49;00m,\n",
            "  \u001b[94m\"replyContent\"\u001b[39;49;00m: \u001b[34mnull\u001b[39;49;00m,\n",
            "  \u001b[94m\"reviewCreatedVersion\"\u001b[39;49;00m: \u001b[34mnull\u001b[39;49;00m,\n",
            "  \u001b[94m\"reviewId\"\u001b[39;49;00m: \u001b[33m\"gp:AOqpTOFTzEj7bqt2lz8SpmDhwBHNBbZ4H6n6NCA0q-u-eZCd1YSEEhE_UHECI0UaS98rePjiwb9xcAidPwQ9aw\"\u001b[39;49;00m,\n",
            "  \u001b[94m\"score\"\u001b[39;49;00m: \u001b[34m1\u001b[39;49;00m,\n",
            "  \u001b[94m\"sortOrder\"\u001b[39;49;00m: \u001b[33m\"newest\"\u001b[39;49;00m,\n",
            "  \u001b[94m\"thumbsUpCount\"\u001b[39;49;00m: \u001b[34m0\u001b[39;49;00m,\n",
            "  \u001b[94m\"userImage\"\u001b[39;49;00m: \u001b[33m\"https://play-lh.googleusercontent.com/a-/AOh14Gj_-homxfvbLy9jAdty7BQNWppwHwBjRLbKBRl9\"\u001b[39;49;00m,\n",
            "  \u001b[94m\"userName\"\u001b[39;49;00m: \u001b[33m\"Keyla Dewi\"\u001b[39;49;00m\n",
            "}\n",
            "\n"
          ],
          "name": "stdout"
        }
      ]
    },
    {
      "cell_type": "code",
      "metadata": {
        "colab": {
          "base_uri": "https://localhost:8080/"
        },
        "id": "BkbI0zSydeEO",
        "outputId": "24d21f32-778e-4727-cf76-26ce13e4f07d"
      },
      "source": [
        "app_reviews_df = pd.DataFrame(app_reviews)\n",
        "app_reviews_df.shape"
      ],
      "execution_count": null,
      "outputs": [
        {
          "output_type": "execute_result",
          "data": {
            "text/plain": [
              "(549, 12)"
            ]
          },
          "metadata": {
            "tags": []
          },
          "execution_count": 11
        }
      ]
    },
    {
      "cell_type": "code",
      "metadata": {
        "colab": {
          "base_uri": "https://localhost:8080/",
          "height": 649
        },
        "id": "Nspd4nNyefbk",
        "outputId": "0c3c9448-25ea-433a-c7fd-5dccdc0bec6a"
      },
      "source": [
        "app_reviews_df.head()"
      ],
      "execution_count": null,
      "outputs": [
        {
          "output_type": "execute_result",
          "data": {
            "text/html": [
              "<div>\n",
              "<style scoped>\n",
              "    .dataframe tbody tr th:only-of-type {\n",
              "        vertical-align: middle;\n",
              "    }\n",
              "\n",
              "    .dataframe tbody tr th {\n",
              "        vertical-align: top;\n",
              "    }\n",
              "\n",
              "    .dataframe thead th {\n",
              "        text-align: right;\n",
              "    }\n",
              "</style>\n",
              "<table border=\"1\" class=\"dataframe\">\n",
              "  <thead>\n",
              "    <tr style=\"text-align: right;\">\n",
              "      <th></th>\n",
              "      <th>reviewId</th>\n",
              "      <th>userName</th>\n",
              "      <th>userImage</th>\n",
              "      <th>content</th>\n",
              "      <th>score</th>\n",
              "      <th>thumbsUpCount</th>\n",
              "      <th>reviewCreatedVersion</th>\n",
              "      <th>at</th>\n",
              "      <th>replyContent</th>\n",
              "      <th>repliedAt</th>\n",
              "      <th>sortOrder</th>\n",
              "      <th>appID</th>\n",
              "    </tr>\n",
              "  </thead>\n",
              "  <tbody>\n",
              "    <tr>\n",
              "      <th>0</th>\n",
              "      <td>gp:AOqpTOFTzEj7bqt2lz8SpmDhwBHNBbZ4H6n6NCA0q-u...</td>\n",
              "      <td>Keyla Dewi</td>\n",
              "      <td>https://play-lh.googleusercontent.com/a-/AOh14...</td>\n",
              "      <td>Jasa pengiriman paling parah.. sudah memilih p...</td>\n",
              "      <td>1</td>\n",
              "      <td>0</td>\n",
              "      <td>None</td>\n",
              "      <td>2020-12-15 06:57:35</td>\n",
              "      <td>None</td>\n",
              "      <td>NaT</td>\n",
              "      <td>newest</td>\n",
              "      <td>com.posindonesia.cob</td>\n",
              "    </tr>\n",
              "    <tr>\n",
              "      <th>1</th>\n",
              "      <td>gp:AOqpTOHC7-I1Z9uV7UGPMTHUeqjgy8UtrDSXd05oLwh...</td>\n",
              "      <td>Mulai Jhon Dame</td>\n",
              "      <td>https://play-lh.googleusercontent.com/-70OzLoL...</td>\n",
              "      <td>Parah banget memakai jasa pos indonesia. Paket...</td>\n",
              "      <td>1</td>\n",
              "      <td>0</td>\n",
              "      <td>0.2.4</td>\n",
              "      <td>2020-12-14 00:08:44</td>\n",
              "      <td>None</td>\n",
              "      <td>NaT</td>\n",
              "      <td>newest</td>\n",
              "      <td>com.posindonesia.cob</td>\n",
              "    </tr>\n",
              "    <tr>\n",
              "      <th>2</th>\n",
              "      <td>gp:AOqpTOF9DnhTuwOhMQlt1ZOXNGZAZjUhfcPH2QR3EEq...</td>\n",
              "      <td>Teranex 3d</td>\n",
              "      <td>https://play-lh.googleusercontent.com/a-/AOh14...</td>\n",
              "      <td>Belajar dl bikin aplikasi baru di post di play...</td>\n",
              "      <td>1</td>\n",
              "      <td>2</td>\n",
              "      <td>0.2.4</td>\n",
              "      <td>2020-12-12 13:34:21</td>\n",
              "      <td>None</td>\n",
              "      <td>NaT</td>\n",
              "      <td>newest</td>\n",
              "      <td>com.posindonesia.cob</td>\n",
              "    </tr>\n",
              "    <tr>\n",
              "      <th>3</th>\n",
              "      <td>gp:AOqpTOEvUeuBGRl8f2CQ8F_yFfnATZghSjHU6bAybiv...</td>\n",
              "      <td>Boris Comonity</td>\n",
              "      <td>https://play-lh.googleusercontent.com/-6nsEpxD...</td>\n",
              "      <td>Tolong buat kurir nya kalau barang sudah Sampe...</td>\n",
              "      <td>1</td>\n",
              "      <td>0</td>\n",
              "      <td>0.2.4</td>\n",
              "      <td>2020-12-11 07:32:48</td>\n",
              "      <td>None</td>\n",
              "      <td>NaT</td>\n",
              "      <td>newest</td>\n",
              "      <td>com.posindonesia.cob</td>\n",
              "    </tr>\n",
              "    <tr>\n",
              "      <th>4</th>\n",
              "      <td>gp:AOqpTOHRwwj9nBiYgYrTqS9qCbERssbhIqkvAljPk0V...</td>\n",
              "      <td>Lu si</td>\n",
              "      <td>https://play-lh.googleusercontent.com/-hiPYTY3...</td>\n",
              "      <td>Kecewa</td>\n",
              "      <td>1</td>\n",
              "      <td>0</td>\n",
              "      <td>0.2.4</td>\n",
              "      <td>2020-12-10 14:37:32</td>\n",
              "      <td>Terima kasih atas saran yang Bapak/Ibu sampaik...</td>\n",
              "      <td>2020-12-11 06:41:10</td>\n",
              "      <td>newest</td>\n",
              "      <td>com.posindonesia.cob</td>\n",
              "    </tr>\n",
              "  </tbody>\n",
              "</table>\n",
              "</div>"
            ],
            "text/plain": [
              "                                            reviewId  ...                 appID\n",
              "0  gp:AOqpTOFTzEj7bqt2lz8SpmDhwBHNBbZ4H6n6NCA0q-u...  ...  com.posindonesia.cob\n",
              "1  gp:AOqpTOHC7-I1Z9uV7UGPMTHUeqjgy8UtrDSXd05oLwh...  ...  com.posindonesia.cob\n",
              "2  gp:AOqpTOF9DnhTuwOhMQlt1ZOXNGZAZjUhfcPH2QR3EEq...  ...  com.posindonesia.cob\n",
              "3  gp:AOqpTOEvUeuBGRl8f2CQ8F_yFfnATZghSjHU6bAybiv...  ...  com.posindonesia.cob\n",
              "4  gp:AOqpTOHRwwj9nBiYgYrTqS9qCbERssbhIqkvAljPk0V...  ...  com.posindonesia.cob\n",
              "\n",
              "[5 rows x 12 columns]"
            ]
          },
          "metadata": {
            "tags": []
          },
          "execution_count": 12
        }
      ]
    },
    {
      "cell_type": "code",
      "metadata": {
        "id": "gZ9CCKwXeqWf"
      },
      "source": [
        "app_reviews_df.to_csv('reviews.csv', index=None, header=True)"
      ],
      "execution_count": null,
      "outputs": []
    },
    {
      "cell_type": "code",
      "metadata": {
        "id": "exqZYfRlfCSt"
      },
      "source": [
        "app_reviews_df.columns.name = None"
      ],
      "execution_count": null,
      "outputs": []
    },
    {
      "cell_type": "code",
      "metadata": {
        "colab": {
          "base_uri": "https://localhost:8080/"
        },
        "id": "ngBdC1zUyz3j",
        "outputId": "d5705bd1-19e3-4036-8de8-35e664e710af"
      },
      "source": [
        "app_reviews_df.shape"
      ],
      "execution_count": null,
      "outputs": [
        {
          "output_type": "execute_result",
          "data": {
            "text/plain": [
              "(549, 12)"
            ]
          },
          "metadata": {
            "tags": []
          },
          "execution_count": 28
        }
      ]
    },
    {
      "cell_type": "code",
      "metadata": {
        "id": "7jY66Zxlzw-1"
      },
      "source": [
        ""
      ],
      "execution_count": null,
      "outputs": []
    }
  ]
}